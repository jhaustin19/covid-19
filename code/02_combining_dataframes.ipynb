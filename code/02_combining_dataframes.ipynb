{
 "cells": [
  {
   "cell_type": "markdown",
   "metadata": {},
   "source": [
    "## Imports"
   ]
  },
  {
   "cell_type": "code",
   "execution_count": 1,
   "metadata": {},
   "outputs": [],
   "source": [
    "import os\n",
    "import pandas as pd"
   ]
  },
  {
   "cell_type": "markdown",
   "metadata": {},
   "source": [
    "## Loading the data"
   ]
  },
  {
   "cell_type": "code",
   "execution_count": 2,
   "metadata": {},
   "outputs": [],
   "source": [
    "reddit = pd.read_csv('../data/reddit_clean.csv')"
   ]
  },
  {
   "cell_type": "code",
   "execution_count": 3,
   "metadata": {},
   "outputs": [],
   "source": [
    "us = pd.read_csv('../data/us.csv')\n",
    "us.set_index('date', inplace=True)"
   ]
  },
  {
   "cell_type": "code",
   "execution_count": 4,
   "metadata": {},
   "outputs": [],
   "source": [
    "states = pd.read_csv('../data/us-states.csv')\n",
    "states.set_index('date', inplace=True)"
   ]
  },
  {
   "cell_type": "markdown",
   "metadata": {},
   "source": [
    "## Amalgamate us data"
   ]
  },
  {
   "cell_type": "code",
   "execution_count": 5,
   "metadata": {},
   "outputs": [],
   "source": [
    "# Create dataframe of only reddit posts from CoronavirusUS\n",
    "reddit_us = reddit.loc[reddit['subreddit'] == 'CoronavirusUS', :]\n",
    "\n",
    "# Add subreddit column to us dataframe\n",
    "us['subreddit'] = 'CoronavirusUS'\n",
    "\n",
    "# Add total number of subreddit subscribers by date to us dataframe\n",
    "us = us.merge(reddit_us.groupby('date')[['subreddit_subscribers']].max(), \n",
    "              left_index=True,\n",
    "              right_index=True)\n",
    "\n",
    "# Add total number of subreddit posts by date to us dataframe\n",
    "us = us.merge(reddit_us.groupby('date')[['title']].count(),\n",
    "              left_index=True,\n",
    "              right_index=True).rename(columns={'title': 'num_posts'})\n",
    "\n",
    "# Add total number of subreddit comments by date to us dataframe\n",
    "us = us.merge(reddit_us.groupby('date')[['num_comments']].sum(), \n",
    "              left_index=True,\n",
    "              right_index=True)\n",
    "\n",
    "# Add total score of subreddit posts by date to us dataframe\n",
    "us = us.merge(reddit_us.groupby('date')[['score']].sum(), \n",
    "              left_index=True,\n",
    "              right_index=True).rename(columns={'score': 'tot_score'})"
   ]
  },
  {
   "cell_type": "markdown",
   "metadata": {},
   "source": [
    "## Amalgamate state data"
   ]
  },
  {
   "cell_type": "code",
   "execution_count": 6,
   "metadata": {},
   "outputs": [],
   "source": [
    "# Create dict of states and their corresponding subreddits\n",
    "states_and_subreddits = {\n",
    "    'Pennsylvania': 'CoronaVirusPA',\n",
    "    'South Carolina': 'coronavirusSC',\n",
    "    'New Jersey': 'CoronavirusNJ',\n",
    "    'Alabama': 'CoronavirusAlabama',\n",
    "    'Virginia': 'coronavirusVA',\n",
    "    'West Virginia': 'CoronaVirusWV',\n",
    "    'California': 'CoronavirusCA',\n",
    "    'Florida': 'FloridaCoronavirus',\n",
    "    'New York': 'CoronavirusNewYork',\n",
    "    'Texas': 'CoronaVirusTX',\n",
    "    'Washington': 'CoronavirusWA',\n",
    "    'Michigan': 'CoronavirusMichigan',\n",
    "    'Colorado': 'CoronavirusColorado',\n",
    "    'Illinois': 'CoronavirusIllinois',\n",
    "    'Louisiana': 'Coronaviruslouisiana',\n",
    "    'Massachusetts': 'CoronavirusMa',\n",
    "    'Georgia': 'CoronavirusGA',\n",
    "}"
   ]
  },
  {
   "cell_type": "code",
   "execution_count": 7,
   "metadata": {},
   "outputs": [
    {
     "name": "stderr",
     "output_type": "stream",
     "text": [
      "/Users/johnaustin/anaconda3/lib/python3.7/site-packages/ipykernel_launcher.py:11: SettingWithCopyWarning: \n",
      "A value is trying to be set on a copy of a slice from a DataFrame.\n",
      "Try using .loc[row_indexer,col_indexer] = value instead\n",
      "\n",
      "See the caveats in the documentation: https://pandas.pydata.org/pandas-docs/stable/user_guide/indexing.html#returning-a-view-versus-a-copy\n",
      "  # This is added back by InteractiveShellApp.init_path()\n"
     ]
    }
   ],
   "source": [
    "state_dataframes = []\n",
    "\n",
    "for state in states_and_subreddits.keys():\n",
    "    # Create dataframe of only reddit posts from the given state\n",
    "    state_reddit = reddit.loc[reddit['subreddit'] == states_and_subreddits[state], :]\n",
    "\n",
    "    # Create dataframe of only cases and deaths from the given state.\n",
    "    state_df = states.loc[states['state'] == state, :]\n",
    "    \n",
    "    # Add subreddit column to state dataframe\n",
    "    state_df['subreddit'] = states_and_subreddits[state]\n",
    "\n",
    "    # Add total number of subreddit subscribers by date to state dataframe\n",
    "    state_df = state_df.merge(state_reddit.groupby('date')[['subreddit_subscribers']].max(), \n",
    "                              left_index=True,\n",
    "                              right_index=True)\n",
    "\n",
    "    # Add total number of subreddit posts by date to state dataframe\n",
    "    state_df = state_df.merge(state_reddit.groupby('date')[['title']].count(), \n",
    "                              left_index=True,\n",
    "                              right_index=True).rename(columns={'title': 'num_posts'})\n",
    "\n",
    "    # Add total number of subreddit comments by date to state dataframe\n",
    "    state_df = state_df.merge(state_reddit.groupby('date')[['num_comments']].sum(), \n",
    "                              left_index=True,\n",
    "                              right_index=True)\n",
    "\n",
    "    # Add total score of subreddit posts by date to us dataframe\n",
    "    state_df = state_df.merge(state_reddit.groupby('date')[['score']].sum(), \n",
    "                              left_index=True,\n",
    "                              right_index=True).rename(columns={'score': 'tot_score'})\n",
    "    \n",
    "    state_dataframes.append(state_df)"
   ]
  },
  {
   "cell_type": "code",
   "execution_count": 12,
   "metadata": {},
   "outputs": [],
   "source": [
    "df = pd.concat(state_dataframes)"
   ]
  },
  {
   "cell_type": "code",
   "execution_count": 17,
   "metadata": {},
   "outputs": [
    {
     "data": {
      "text/html": [
       "<div>\n",
       "<style scoped>\n",
       "    .dataframe tbody tr th:only-of-type {\n",
       "        vertical-align: middle;\n",
       "    }\n",
       "\n",
       "    .dataframe tbody tr th {\n",
       "        vertical-align: top;\n",
       "    }\n",
       "\n",
       "    .dataframe thead th {\n",
       "        text-align: right;\n",
       "    }\n",
       "</style>\n",
       "<table border=\"1\" class=\"dataframe\">\n",
       "  <thead>\n",
       "    <tr style=\"text-align: right;\">\n",
       "      <th></th>\n",
       "      <th>state</th>\n",
       "      <th>fips</th>\n",
       "      <th>cases</th>\n",
       "      <th>deaths</th>\n",
       "      <th>subreddit</th>\n",
       "      <th>subreddit_subscribers</th>\n",
       "      <th>num_posts</th>\n",
       "      <th>num_comments</th>\n",
       "      <th>tot_score</th>\n",
       "    </tr>\n",
       "    <tr>\n",
       "      <th>date</th>\n",
       "      <th></th>\n",
       "      <th></th>\n",
       "      <th></th>\n",
       "      <th></th>\n",
       "      <th></th>\n",
       "      <th></th>\n",
       "      <th></th>\n",
       "      <th></th>\n",
       "      <th></th>\n",
       "    </tr>\n",
       "  </thead>\n",
       "  <tbody>\n",
       "    <tr>\n",
       "      <th>2020-04-30</th>\n",
       "      <td>West Virginia</td>\n",
       "      <td>54</td>\n",
       "      <td>1125</td>\n",
       "      <td>44</td>\n",
       "      <td>CoronaVirusWV</td>\n",
       "      <td>477</td>\n",
       "      <td>1</td>\n",
       "      <td>1</td>\n",
       "      <td>1</td>\n",
       "    </tr>\n",
       "    <tr>\n",
       "      <th>2020-05-04</th>\n",
       "      <td>West Virginia</td>\n",
       "      <td>54</td>\n",
       "      <td>1224</td>\n",
       "      <td>50</td>\n",
       "      <td>CoronaVirusWV</td>\n",
       "      <td>491</td>\n",
       "      <td>2</td>\n",
       "      <td>14</td>\n",
       "      <td>2</td>\n",
       "    </tr>\n",
       "    <tr>\n",
       "      <th>2020-05-05</th>\n",
       "      <td>West Virginia</td>\n",
       "      <td>54</td>\n",
       "      <td>1242</td>\n",
       "      <td>50</td>\n",
       "      <td>CoronaVirusWV</td>\n",
       "      <td>493</td>\n",
       "      <td>3</td>\n",
       "      <td>9</td>\n",
       "      <td>3</td>\n",
       "    </tr>\n",
       "    <tr>\n",
       "      <th>2020-05-06</th>\n",
       "      <td>West Virginia</td>\n",
       "      <td>54</td>\n",
       "      <td>1276</td>\n",
       "      <td>51</td>\n",
       "      <td>CoronaVirusWV</td>\n",
       "      <td>503</td>\n",
       "      <td>2</td>\n",
       "      <td>6</td>\n",
       "      <td>2</td>\n",
       "    </tr>\n",
       "    <tr>\n",
       "      <th>2020-05-07</th>\n",
       "      <td>West Virginia</td>\n",
       "      <td>54</td>\n",
       "      <td>1297</td>\n",
       "      <td>51</td>\n",
       "      <td>CoronaVirusWV</td>\n",
       "      <td>515</td>\n",
       "      <td>1</td>\n",
       "      <td>3</td>\n",
       "      <td>2</td>\n",
       "    </tr>\n",
       "  </tbody>\n",
       "</table>\n",
       "</div>"
      ],
      "text/plain": [
       "                    state  fips  cases  deaths      subreddit  \\\n",
       "date                                                            \n",
       "2020-04-30  West Virginia    54   1125      44  CoronaVirusWV   \n",
       "2020-05-04  West Virginia    54   1224      50  CoronaVirusWV   \n",
       "2020-05-05  West Virginia    54   1242      50  CoronaVirusWV   \n",
       "2020-05-06  West Virginia    54   1276      51  CoronaVirusWV   \n",
       "2020-05-07  West Virginia    54   1297      51  CoronaVirusWV   \n",
       "\n",
       "            subreddit_subscribers  num_posts  num_comments  tot_score  \n",
       "date                                                                   \n",
       "2020-04-30                    477          1             1          1  \n",
       "2020-05-04                    491          2            14          2  \n",
       "2020-05-05                    493          3             9          3  \n",
       "2020-05-06                    503          2             6          2  \n",
       "2020-05-07                    515          1             3          2  "
      ]
     },
     "execution_count": 17,
     "metadata": {},
     "output_type": "execute_result"
    }
   ],
   "source": [
    "df[df['state'] == 'West Virginia'].tail()"
   ]
  },
  {
   "cell_type": "markdown",
   "metadata": {},
   "source": [
    "## Export data"
   ]
  },
  {
   "cell_type": "code",
   "execution_count": 8,
   "metadata": {},
   "outputs": [],
   "source": [
    "try:\n",
    "    os.mkdir('../data')\n",
    "except FileExistsError:\n",
    "    pass\n",
    "finally:\n",
    "    try:\n",
    "        os.mkdir('../data/states')\n",
    "    except FileExistsError:\n",
    "        pass"
   ]
  },
  {
   "cell_type": "code",
   "execution_count": 9,
   "metadata": {},
   "outputs": [],
   "source": [
    "us.to_csv('../data/us_with_reddit.csv')"
   ]
  },
  {
   "cell_type": "code",
   "execution_count": 10,
   "metadata": {},
   "outputs": [],
   "source": [
    "for state_df in state_dataframes:\n",
    "    filename = state_df['state'][0].lower().replace(' ', '_') + '.csv'\n",
    "    state_df.to_csv(f'../data/states/{filename}')"
   ]
  },
  {
   "cell_type": "code",
   "execution_count": 11,
   "metadata": {},
   "outputs": [],
   "source": [
    "pd.concat(state_dataframes).to_csv('../data/states_with_reddit.csv')"
   ]
  }
 ],
 "metadata": {
  "kernelspec": {
   "display_name": "Python 3",
   "language": "python",
   "name": "python3"
  },
  "language_info": {
   "codemirror_mode": {
    "name": "ipython",
    "version": 3
   },
   "file_extension": ".py",
   "mimetype": "text/x-python",
   "name": "python",
   "nbconvert_exporter": "python",
   "pygments_lexer": "ipython3",
   "version": "3.7.6"
  }
 },
 "nbformat": 4,
 "nbformat_minor": 4
}
