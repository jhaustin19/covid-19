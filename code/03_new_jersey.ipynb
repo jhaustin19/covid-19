{
 "cells": [
  {
   "cell_type": "markdown",
   "metadata": {},
   "source": [
    "## Imports"
   ]
  },
  {
   "cell_type": "code",
   "execution_count": 9,
   "metadata": {},
   "outputs": [],
   "source": [
    "import pandas as pd\n",
    "import time\n",
    "\n",
    "from pushshift_functions import get_subreddit_posts"
   ]
  },
  {
   "cell_type": "markdown",
   "metadata": {},
   "source": [
    "## Pulling from /r/newjersey"
   ]
  },
  {
   "cell_type": "code",
   "execution_count": 5,
   "metadata": {},
   "outputs": [
    {
     "name": "stdout",
     "output_type": "stream",
     "text": [
      "Pull number: 1\n",
      "Pull number: 2\n",
      "Pull number: 3\n",
      "Pull number: 4\n",
      "Pull number: 5\n",
      "Pull number: 6\n",
      "Pull number: 7\n",
      "Pull number: 8\n",
      "Pull number: 9\n",
      "Pull number: 10\n",
      "Pull number: 11\n",
      "Pull number: 12\n",
      "Pull number: 13\n",
      "Pull number: 14\n",
      "Pull number: 15\n",
      "Pull number: 16\n",
      "Pull number: 17\n",
      "Pull number: 18\n",
      "Pull number: 19\n",
      "Pull number: 20\n",
      "Pull number: 21\n",
      "Pull number: 22\n",
      "Pull number: 23\n",
      "Pull number: 24\n",
      "Pull number: 25\n",
      "Pull number: 26\n",
      "Pull number: 27\n",
      "Pull number: 28\n",
      "Pull number: 29\n",
      "Pull number: 30\n",
      "Pull number: 31\n",
      "Pull number: 32\n",
      "Pull number: 33\n",
      "Pull number: 34\n"
     ]
    }
   ],
   "source": [
    "# Create list to hold all the posts we acquire\n",
    "posts = []\n",
    "\n",
    "# Create count variable to keep track of pulls\n",
    "count = 0\n",
    "print(f'Pull number: {count + 1}')\n",
    "\n",
    "# Make initial pull of reddit posts.\n",
    "# after is set to one year ago, start pulling posts from then.\n",
    "data = get_subreddit_posts({\n",
    "        'subreddit': 'newjersey',\n",
    "        'size': 500,\n",
    "        'after': 1557769802,\n",
    "})\n",
    "\n",
    "# As long as the pull of posts was successful, the following should run.\n",
    "# Keep pulling posts as long as there are more to grab.\n",
    "while data:\n",
    "    posts.append(data)\n",
    "\n",
    "    # By design, the newest post will always be from the last list in posts.\n",
    "    data = get_subreddit_posts({\n",
    "        'subreddit': 'newjersey',\n",
    "        'size': 500,\n",
    "        'after': max([post['created_utc'] for post in posts[-1]])\n",
    ",\n",
    "    })\n",
    "    \n",
    "    count += 1\n",
    "    print(f'Pull number: {count + 1}')\n",
    "\n",
    "    time.sleep(5)"
   ]
  },
  {
   "cell_type": "code",
   "execution_count": 23,
   "metadata": {},
   "outputs": [],
   "source": [
    "dfs = [pd.DataFrame(bundle) for bundle in posts]"
   ]
  },
  {
   "cell_type": "code",
   "execution_count": 24,
   "metadata": {},
   "outputs": [],
   "source": [
    "df = pd.concat(dfs, ignore_index=True)"
   ]
  },
  {
   "cell_type": "markdown",
   "metadata": {},
   "source": [
    "## Export data"
   ]
  },
  {
   "cell_type": "code",
   "execution_count": 26,
   "metadata": {},
   "outputs": [],
   "source": [
    "df.to_csv('../data/new_jersey_subreddit.csv')"
   ]
  }
 ],
 "metadata": {
  "kernelspec": {
   "display_name": "Python 3",
   "language": "python",
   "name": "python3"
  },
  "language_info": {
   "codemirror_mode": {
    "name": "ipython",
    "version": 3
   },
   "file_extension": ".py",
   "mimetype": "text/x-python",
   "name": "python",
   "nbconvert_exporter": "python",
   "pygments_lexer": "ipython3",
   "version": "3.7.6"
  }
 },
 "nbformat": 4,
 "nbformat_minor": 4
}
