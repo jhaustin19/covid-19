{
 "cells": [
  {
   "cell_type": "markdown",
   "metadata": {},
   "source": [
    "## Imports"
   ]
  },
  {
   "cell_type": "code",
   "execution_count": 1,
   "metadata": {},
   "outputs": [],
   "source": [
    "import pandas as pd\n",
    "\n",
    "from sklearn.feature_extraction.text import CountVectorizer\n",
    "from sklearn.linear_model import LogisticRegression\n",
    "from sklearn.model_selection import train_test_split, GridSearchCV\n",
    "from sklearn.pipeline import Pipeline\n",
    "from sklearn.metrics import plot_confusion_matrix\n",
    "from sklearn.naive_bayes import MultinomialNB\n",
    "from sklearn.ensemble import RandomForestClassifier"
   ]
  },
  {
   "cell_type": "markdown",
   "metadata": {},
   "source": [
    "## Loading the data"
   ]
  },
  {
   "cell_type": "code",
   "execution_count": 2,
   "metadata": {},
   "outputs": [],
   "source": [
    "twitter = pd.read_csv('../data/english_tweets.csv')"
   ]
  },
  {
   "cell_type": "code",
   "execution_count": 3,
   "metadata": {},
   "outputs": [],
   "source": [
    "reddit = pd.read_csv('../data/reddit_clean.csv', low_memory=False)"
   ]
  },
  {
   "cell_type": "markdown",
   "metadata": {},
   "source": [
    "## Cleaing the `twitter` dataframe"
   ]
  },
  {
   "cell_type": "code",
   "execution_count": 4,
   "metadata": {},
   "outputs": [
    {
     "data": {
      "text/html": [
       "<div>\n",
       "<style scoped>\n",
       "    .dataframe tbody tr th:only-of-type {\n",
       "        vertical-align: middle;\n",
       "    }\n",
       "\n",
       "    .dataframe tbody tr th {\n",
       "        vertical-align: top;\n",
       "    }\n",
       "\n",
       "    .dataframe thead th {\n",
       "        text-align: right;\n",
       "    }\n",
       "</style>\n",
       "<table border=\"1\" class=\"dataframe\">\n",
       "  <thead>\n",
       "    <tr style=\"text-align: right;\">\n",
       "      <th></th>\n",
       "      <th>id</th>\n",
       "      <th>permalink</th>\n",
       "      <th>username</th>\n",
       "      <th>to</th>\n",
       "      <th>text</th>\n",
       "      <th>date</th>\n",
       "      <th>retweets</th>\n",
       "      <th>favorites</th>\n",
       "      <th>mentions</th>\n",
       "      <th>hashtags</th>\n",
       "      <th>geo</th>\n",
       "    </tr>\n",
       "  </thead>\n",
       "  <tbody>\n",
       "    <tr>\n",
       "      <th>0</th>\n",
       "      <td>1260652847521128448</td>\n",
       "      <td>https://twitter.com/jorge03568721/status/12606...</td>\n",
       "      <td>jorge03568721</td>\n",
       "      <td>NaN</td>\n",
       "      <td>Coronavirus: The lost six weeks when US failed...</td>\n",
       "      <td>2020-05-13 19:27:15+00:00</td>\n",
       "      <td>0</td>\n",
       "      <td>0</td>\n",
       "      <td>NaN</td>\n",
       "      <td>NaN</td>\n",
       "      <td>NaN</td>\n",
       "    </tr>\n",
       "    <tr>\n",
       "      <th>1</th>\n",
       "      <td>1260652847290413057</td>\n",
       "      <td>https://twitter.com/brainboredcom/status/12606...</td>\n",
       "      <td>brainboredcom</td>\n",
       "      <td>NaN</td>\n",
       "      <td>California doctor says arthritis drug improved...</td>\n",
       "      <td>2020-05-13 19:27:15+00:00</td>\n",
       "      <td>0</td>\n",
       "      <td>0</td>\n",
       "      <td>NaN</td>\n",
       "      <td>NaN</td>\n",
       "      <td>NaN</td>\n",
       "    </tr>\n",
       "    <tr>\n",
       "      <th>2</th>\n",
       "      <td>1260652846472560640</td>\n",
       "      <td>https://twitter.com/Mama_Crabcakes/status/1260...</td>\n",
       "      <td>Mama_Crabcakes</td>\n",
       "      <td>RandPaul</td>\n",
       "      <td>We already knew that we were team coronavirus/...</td>\n",
       "      <td>2020-05-13 19:27:15+00:00</td>\n",
       "      <td>0</td>\n",
       "      <td>0</td>\n",
       "      <td>NaN</td>\n",
       "      <td>NaN</td>\n",
       "      <td>NaN</td>\n",
       "    </tr>\n",
       "    <tr>\n",
       "      <th>3</th>\n",
       "      <td>1260652846279606272</td>\n",
       "      <td>https://twitter.com/MuhammadAyub218/status/126...</td>\n",
       "      <td>MuhammadAyub218</td>\n",
       "      <td>NaN</td>\n",
       "      <td>How companies and employees can make their bes...</td>\n",
       "      <td>2020-05-13 19:27:15+00:00</td>\n",
       "      <td>0</td>\n",
       "      <td>0</td>\n",
       "      <td>@wef</td>\n",
       "      <td>NaN</td>\n",
       "      <td>NaN</td>\n",
       "    </tr>\n",
       "    <tr>\n",
       "      <th>4</th>\n",
       "      <td>1260652846225055744</td>\n",
       "      <td>https://twitter.com/_ResourceX/status/12606528...</td>\n",
       "      <td>_ResourceX</td>\n",
       "      <td>NaN</td>\n",
       "      <td>COVID-19 is a budget nightmare for #localgov. ...</td>\n",
       "      <td>2020-05-13 19:27:14+00:00</td>\n",
       "      <td>0</td>\n",
       "      <td>0</td>\n",
       "      <td>NaN</td>\n",
       "      <td>#localgov #PBBi</td>\n",
       "      <td>NaN</td>\n",
       "    </tr>\n",
       "  </tbody>\n",
       "</table>\n",
       "</div>"
      ],
      "text/plain": [
       "                    id                                          permalink  \\\n",
       "0  1260652847521128448  https://twitter.com/jorge03568721/status/12606...   \n",
       "1  1260652847290413057  https://twitter.com/brainboredcom/status/12606...   \n",
       "2  1260652846472560640  https://twitter.com/Mama_Crabcakes/status/1260...   \n",
       "3  1260652846279606272  https://twitter.com/MuhammadAyub218/status/126...   \n",
       "4  1260652846225055744  https://twitter.com/_ResourceX/status/12606528...   \n",
       "\n",
       "          username        to  \\\n",
       "0    jorge03568721       NaN   \n",
       "1    brainboredcom       NaN   \n",
       "2   Mama_Crabcakes  RandPaul   \n",
       "3  MuhammadAyub218       NaN   \n",
       "4       _ResourceX       NaN   \n",
       "\n",
       "                                                text  \\\n",
       "0  Coronavirus: The lost six weeks when US failed...   \n",
       "1  California doctor says arthritis drug improved...   \n",
       "2  We already knew that we were team coronavirus/...   \n",
       "3  How companies and employees can make their bes...   \n",
       "4  COVID-19 is a budget nightmare for #localgov. ...   \n",
       "\n",
       "                        date  retweets  favorites mentions         hashtags  \\\n",
       "0  2020-05-13 19:27:15+00:00         0          0      NaN              NaN   \n",
       "1  2020-05-13 19:27:15+00:00         0          0      NaN              NaN   \n",
       "2  2020-05-13 19:27:15+00:00         0          0      NaN              NaN   \n",
       "3  2020-05-13 19:27:15+00:00         0          0     @wef              NaN   \n",
       "4  2020-05-13 19:27:14+00:00         0          0      NaN  #localgov #PBBi   \n",
       "\n",
       "   geo  \n",
       "0  NaN  \n",
       "1  NaN  \n",
       "2  NaN  \n",
       "3  NaN  \n",
       "4  NaN  "
      ]
     },
     "execution_count": 4,
     "metadata": {},
     "output_type": "execute_result"
    }
   ],
   "source": [
    "twitter.head()"
   ]
  },
  {
   "cell_type": "code",
   "execution_count": 5,
   "metadata": {},
   "outputs": [],
   "source": [
    "# Add origin column\n",
    "twitter.loc[:, 'origin'] = 'twitter'"
   ]
  },
  {
   "cell_type": "code",
   "execution_count": 6,
   "metadata": {},
   "outputs": [],
   "source": [
    "# Remove all columns except origin and text\n",
    "cols_to_keep = ['origin', 'text']\n",
    "twitter = twitter.loc[:, cols_to_keep]"
   ]
  },
  {
   "cell_type": "code",
   "execution_count": 7,
   "metadata": {},
   "outputs": [
    {
     "data": {
      "text/plain": [
       "origin    0\n",
       "text      0\n",
       "dtype: int64"
      ]
     },
     "execution_count": 7,
     "metadata": {},
     "output_type": "execute_result"
    }
   ],
   "source": [
    "# Check for nulls\n",
    "twitter.isnull().sum()"
   ]
  },
  {
   "cell_type": "markdown",
   "metadata": {},
   "source": [
    "## Cleaning the `reddit` dataframe"
   ]
  },
  {
   "cell_type": "code",
   "execution_count": 8,
   "metadata": {},
   "outputs": [
    {
     "data": {
      "text/html": [
       "<div>\n",
       "<style scoped>\n",
       "    .dataframe tbody tr th:only-of-type {\n",
       "        vertical-align: middle;\n",
       "    }\n",
       "\n",
       "    .dataframe tbody tr th {\n",
       "        vertical-align: top;\n",
       "    }\n",
       "\n",
       "    .dataframe thead th {\n",
       "        text-align: right;\n",
       "    }\n",
       "</style>\n",
       "<table border=\"1\" class=\"dataframe\">\n",
       "  <thead>\n",
       "    <tr style=\"text-align: right;\">\n",
       "      <th></th>\n",
       "      <th>subreddit</th>\n",
       "      <th>subreddit_subscribers</th>\n",
       "      <th>title</th>\n",
       "      <th>selftext</th>\n",
       "      <th>score</th>\n",
       "      <th>num_comments</th>\n",
       "      <th>author</th>\n",
       "      <th>created_utc</th>\n",
       "      <th>date</th>\n",
       "    </tr>\n",
       "  </thead>\n",
       "  <tbody>\n",
       "    <tr>\n",
       "      <th>0</th>\n",
       "      <td>CoronaVirusPA</td>\n",
       "      <td>5</td>\n",
       "      <td>Pennsylvania resident released from quarantine...</td>\n",
       "      <td>NaN</td>\n",
       "      <td>1</td>\n",
       "      <td>6</td>\n",
       "      <td>rfwaverider</td>\n",
       "      <td>1582989404</td>\n",
       "      <td>2020-02-29</td>\n",
       "    </tr>\n",
       "    <tr>\n",
       "      <th>1</th>\n",
       "      <td>CoronaVirusPA</td>\n",
       "      <td>18</td>\n",
       "      <td>Allegheny county briefing on coronavirus</td>\n",
       "      <td>NaN</td>\n",
       "      <td>1</td>\n",
       "      <td>0</td>\n",
       "      <td>rb30zk</td>\n",
       "      <td>1583178566</td>\n",
       "      <td>2020-03-02</td>\n",
       "    </tr>\n",
       "    <tr>\n",
       "      <th>2</th>\n",
       "      <td>CoronaVirusPA</td>\n",
       "      <td>18</td>\n",
       "      <td>PA couple kept in TX quarantine</td>\n",
       "      <td>NaN</td>\n",
       "      <td>1</td>\n",
       "      <td>0</td>\n",
       "      <td>rb30zk</td>\n",
       "      <td>1583178657</td>\n",
       "      <td>2020-03-02</td>\n",
       "    </tr>\n",
       "    <tr>\n",
       "      <th>3</th>\n",
       "      <td>CoronaVirusPA</td>\n",
       "      <td>18</td>\n",
       "      <td>Philly Inquirer thinks virus might never reach...</td>\n",
       "      <td>NaN</td>\n",
       "      <td>1</td>\n",
       "      <td>0</td>\n",
       "      <td>rb30zk</td>\n",
       "      <td>1583178823</td>\n",
       "      <td>2020-03-02</td>\n",
       "    </tr>\n",
       "    <tr>\n",
       "      <th>4</th>\n",
       "      <td>CoronaVirusPA</td>\n",
       "      <td>18</td>\n",
       "      <td>Penn State NOT recommending preparedness</td>\n",
       "      <td>NaN</td>\n",
       "      <td>1</td>\n",
       "      <td>1</td>\n",
       "      <td>rb30zk</td>\n",
       "      <td>1583178905</td>\n",
       "      <td>2020-03-02</td>\n",
       "    </tr>\n",
       "  </tbody>\n",
       "</table>\n",
       "</div>"
      ],
      "text/plain": [
       "       subreddit  subreddit_subscribers  \\\n",
       "0  CoronaVirusPA                      5   \n",
       "1  CoronaVirusPA                     18   \n",
       "2  CoronaVirusPA                     18   \n",
       "3  CoronaVirusPA                     18   \n",
       "4  CoronaVirusPA                     18   \n",
       "\n",
       "                                               title selftext  score  \\\n",
       "0  Pennsylvania resident released from quarantine...      NaN      1   \n",
       "1           Allegheny county briefing on coronavirus      NaN      1   \n",
       "2                    PA couple kept in TX quarantine      NaN      1   \n",
       "3  Philly Inquirer thinks virus might never reach...      NaN      1   \n",
       "4           Penn State NOT recommending preparedness      NaN      1   \n",
       "\n",
       "   num_comments       author  created_utc        date  \n",
       "0             6  rfwaverider   1582989404  2020-02-29  \n",
       "1             0       rb30zk   1583178566  2020-03-02  \n",
       "2             0       rb30zk   1583178657  2020-03-02  \n",
       "3             0       rb30zk   1583178823  2020-03-02  \n",
       "4             1       rb30zk   1583178905  2020-03-02  "
      ]
     },
     "execution_count": 8,
     "metadata": {},
     "output_type": "execute_result"
    }
   ],
   "source": [
    "reddit.head()"
   ]
  },
  {
   "cell_type": "code",
   "execution_count": 9,
   "metadata": {},
   "outputs": [],
   "source": [
    "# Remove all columns except subreddit and title\n",
    "cols_to_keep = ['subreddit', 'title']\n",
    "reddit = reddit.loc[:, cols_to_keep]"
   ]
  },
  {
   "cell_type": "code",
   "execution_count": 10,
   "metadata": {},
   "outputs": [],
   "source": [
    "# Rename columns to match twitter dataframe\n",
    "reddit.rename(columns={\n",
    "    'subreddit': 'origin',\n",
    "    'title': 'text',\n",
    "}, inplace=True)"
   ]
  },
  {
   "cell_type": "code",
   "execution_count": 11,
   "metadata": {},
   "outputs": [],
   "source": [
    "# Keep only posts from /r/Coronavirus\n",
    "is_coronavirus_sub = reddit['origin'] == 'CoronavirusUS'\n",
    "reddit = reddit.loc[is_coronavirus_sub, :]"
   ]
  },
  {
   "cell_type": "code",
   "execution_count": 12,
   "metadata": {},
   "outputs": [
    {
     "data": {
      "text/plain": [
       "origin    0\n",
       "text      0\n",
       "dtype: int64"
      ]
     },
     "execution_count": 12,
     "metadata": {},
     "output_type": "execute_result"
    }
   ],
   "source": [
    "# Check for nulls\n",
    "reddit.isnull().sum()"
   ]
  },
  {
   "cell_type": "code",
   "execution_count": 13,
   "metadata": {},
   "outputs": [],
   "source": [
    "# Trim reddit df to be same size as twitter df\n",
    "reddit = reddit.sample(n=twitter.shape[0], random_state=42)"
   ]
  },
  {
   "cell_type": "markdown",
   "metadata": {},
   "source": [
    "## Creating a combined dataframe"
   ]
  },
  {
   "cell_type": "code",
   "execution_count": 14,
   "metadata": {},
   "outputs": [],
   "source": [
    "df = pd.concat([reddit, twitter])"
   ]
  },
  {
   "cell_type": "code",
   "execution_count": 15,
   "metadata": {},
   "outputs": [
    {
     "data": {
      "text/html": [
       "<div>\n",
       "<style scoped>\n",
       "    .dataframe tbody tr th:only-of-type {\n",
       "        vertical-align: middle;\n",
       "    }\n",
       "\n",
       "    .dataframe tbody tr th {\n",
       "        vertical-align: top;\n",
       "    }\n",
       "\n",
       "    .dataframe thead th {\n",
       "        text-align: right;\n",
       "    }\n",
       "</style>\n",
       "<table border=\"1\" class=\"dataframe\">\n",
       "  <thead>\n",
       "    <tr style=\"text-align: right;\">\n",
       "      <th></th>\n",
       "      <th>origin</th>\n",
       "      <th>text</th>\n",
       "    </tr>\n",
       "  </thead>\n",
       "  <tbody>\n",
       "    <tr>\n",
       "      <th>33326</th>\n",
       "      <td>CoronavirusUS</td>\n",
       "      <td>ICU doctor fighting coronavirus denied green card</td>\n",
       "    </tr>\n",
       "    <tr>\n",
       "      <th>29967</th>\n",
       "      <td>CoronavirusUS</td>\n",
       "      <td>Reports suggest many have had coronavirus with...</td>\n",
       "    </tr>\n",
       "    <tr>\n",
       "      <th>29128</th>\n",
       "      <td>CoronavirusUS</td>\n",
       "      <td>GET TESTED WITHOUT LEAVING YOUR HOUSE</td>\n",
       "    </tr>\n",
       "    <tr>\n",
       "      <th>20728</th>\n",
       "      <td>CoronavirusUS</td>\n",
       "      <td>Will I Recieve a Check?</td>\n",
       "    </tr>\n",
       "    <tr>\n",
       "      <th>9737</th>\n",
       "      <td>CoronavirusUS</td>\n",
       "      <td>Some kids only eat at school</td>\n",
       "    </tr>\n",
       "  </tbody>\n",
       "</table>\n",
       "</div>"
      ],
      "text/plain": [
       "              origin                                               text\n",
       "33326  CoronavirusUS  ICU doctor fighting coronavirus denied green card\n",
       "29967  CoronavirusUS  Reports suggest many have had coronavirus with...\n",
       "29128  CoronavirusUS              GET TESTED WITHOUT LEAVING YOUR HOUSE\n",
       "20728  CoronavirusUS                            Will I Recieve a Check?\n",
       "9737   CoronavirusUS                       Some kids only eat at school"
      ]
     },
     "execution_count": 15,
     "metadata": {},
     "output_type": "execute_result"
    }
   ],
   "source": [
    "df.head()"
   ]
  },
  {
   "cell_type": "code",
   "execution_count": 16,
   "metadata": {},
   "outputs": [
    {
     "data": {
      "text/plain": [
       "(11904, 2)"
      ]
     },
     "execution_count": 16,
     "metadata": {},
     "output_type": "execute_result"
    }
   ],
   "source": [
    "df.shape"
   ]
  },
  {
   "cell_type": "markdown",
   "metadata": {},
   "source": [
    "## Train/test split"
   ]
  },
  {
   "cell_type": "code",
   "execution_count": 17,
   "metadata": {},
   "outputs": [],
   "source": [
    "X = df['text']\n",
    "y = df['origin']\n",
    "\n",
    "X_train, X_test, y_train, y_test = train_test_split(X, y, random_state=42)"
   ]
  },
  {
   "cell_type": "markdown",
   "metadata": {},
   "source": [
    "## Logistic Regression"
   ]
  },
  {
   "cell_type": "code",
   "execution_count": 18,
   "metadata": {},
   "outputs": [],
   "source": [
    "logreg_pipe = Pipeline([\n",
    "    ('cvec', CountVectorizer()),\n",
    "    ('logreg', LogisticRegression(solver='liblinear')),\n",
    "])\n",
    "\n",
    "logreg_pipe_params = {\n",
    "    'cvec__max_df': [0.4, 0.6, 0.8],\n",
    "    'cvec__ngram_range': [(1, 1), (1, 2)],\n",
    "    'logreg__C': [0.01, 0.1, 1],\n",
    "    'logreg__penalty': ['l1', 'l2'],\n",
    "}"
   ]
  },
  {
   "cell_type": "code",
   "execution_count": 19,
   "metadata": {},
   "outputs": [],
   "source": [
    "logreg_gs = GridSearchCV(logreg_pipe,\n",
    "                         logreg_pipe_params,\n",
    "                         cv=5)"
   ]
  },
  {
   "cell_type": "code",
   "execution_count": 20,
   "metadata": {},
   "outputs": [],
   "source": [
    "logreg_gs.fit(X_train, y_train);"
   ]
  },
  {
   "cell_type": "code",
   "execution_count": 21,
   "metadata": {},
   "outputs": [
    {
     "name": "stdout",
     "output_type": "stream",
     "text": [
      "Train score: 0.9957\n",
      "Test score: 0.8851\n",
      "Baseline accuracy: 0.5\n"
     ]
    }
   ],
   "source": [
    "print('Train score:', round(logreg_gs.score(X_train, y_train), 4))\n",
    "print('Test score:', round(logreg_gs.score(X_test, y_test), 4))\n",
    "print('Baseline accuracy:', round(y.value_counts(normalize=True)[0], 4))"
   ]
  },
  {
   "cell_type": "markdown",
   "metadata": {},
   "source": [
    "## Multinomial Naive Bayes"
   ]
  },
  {
   "cell_type": "code",
   "execution_count": 22,
   "metadata": {},
   "outputs": [],
   "source": [
    "mnb_pipe = Pipeline([\n",
    "    ('cvec', CountVectorizer()),\n",
    "    ('mnb', MultinomialNB())\n",
    "])\n",
    "\n",
    "mnb_pipe_params = {\n",
    "    'cvec__max_df': [0.4, 0.6, 0.8],\n",
    "    'cvec__ngram_range': [(1, 1), (1, 2)],\n",
    "}"
   ]
  },
  {
   "cell_type": "code",
   "execution_count": 23,
   "metadata": {},
   "outputs": [],
   "source": [
    "mnb_gs = GridSearchCV(mnb_pipe,\n",
    "                      mnb_pipe_params,\n",
    "                      cv=5)"
   ]
  },
  {
   "cell_type": "code",
   "execution_count": 24,
   "metadata": {},
   "outputs": [],
   "source": [
    "mnb_gs.fit(X_train, y_train);"
   ]
  },
  {
   "cell_type": "code",
   "execution_count": 25,
   "metadata": {},
   "outputs": [
    {
     "name": "stdout",
     "output_type": "stream",
     "text": [
      "Train score: 0.9028\n",
      "Test score: 0.796\n",
      "Baseline accuracy: 0.5\n"
     ]
    }
   ],
   "source": [
    "print('Train score:', round(mnb_gs.score(X_train, y_train), 4))\n",
    "print('Test score:', round(mnb_gs.score(X_test, y_test), 4))\n",
    "print('Baseline accuracy:', round(y.value_counts(normalize=True)[0], 4))"
   ]
  },
  {
   "cell_type": "markdown",
   "metadata": {},
   "source": [
    "## Random Forest"
   ]
  },
  {
   "cell_type": "code",
   "execution_count": 26,
   "metadata": {},
   "outputs": [],
   "source": [
    "rf_pipe = Pipeline([\n",
    "    ('cvec', CountVectorizer()),\n",
    "    ('rf', RandomForestClassifier())\n",
    "])\n",
    "\n",
    "rf_pipe_params = {\n",
    "    'cvec__max_df': [0.4, 0.6, 0.8],\n",
    "    'cvec__ngram_range': [(1, 1), (1, 2)],\n",
    "    'rf__n_estimators': [100, 150],\n",
    "    'rf__max_depth': [None, 2, 3],\n",
    "}"
   ]
  },
  {
   "cell_type": "code",
   "execution_count": 27,
   "metadata": {},
   "outputs": [],
   "source": [
    "rf_gs = GridSearchCV(rf_pipe,\n",
    "                     rf_pipe_params,\n",
    "                     cv=5)"
   ]
  },
  {
   "cell_type": "code",
   "execution_count": 28,
   "metadata": {},
   "outputs": [],
   "source": [
    "rf_gs.fit(X_train, y_train);"
   ]
  },
  {
   "cell_type": "code",
   "execution_count": 29,
   "metadata": {},
   "outputs": [
    {
     "name": "stdout",
     "output_type": "stream",
     "text": [
      "Train score: 0.9999\n",
      "Test score: 0.8579\n",
      "Baseline accuracy: 0.5\n"
     ]
    }
   ],
   "source": [
    "print('Train score:', round(rf_gs.score(X_train, y_train), 4))\n",
    "print('Test score:', round(rf_gs.score(X_test, y_test), 4))\n",
    "print('Baseline accuracy:', round(y.value_counts(normalize=True)[0], 4))"
   ]
  },
  {
   "cell_type": "markdown",
   "metadata": {},
   "source": [
    "## Examining the logistic regression model"
   ]
  },
  {
   "cell_type": "code",
   "execution_count": 30,
   "metadata": {},
   "outputs": [
    {
     "data": {
      "text/plain": [
       "{'cvec__max_df': 0.4,\n",
       " 'cvec__ngram_range': (1, 2),\n",
       " 'logreg__C': 1,\n",
       " 'logreg__penalty': 'l2'}"
      ]
     },
     "execution_count": 30,
     "metadata": {},
     "output_type": "execute_result"
    }
   ],
   "source": [
    "# View which parameters were best\n",
    "logreg_gs.best_params_"
   ]
  },
  {
   "cell_type": "code",
   "execution_count": 31,
   "metadata": {},
   "outputs": [],
   "source": [
    "# Get words used in the model\n",
    "words = logreg_gs.best_estimator_.named_steps['cvec'].get_feature_names()\n",
    "\n",
    "# Get associated coefficients of words used\n",
    "coefficients = logreg_gs.best_estimator_.named_steps['logreg'].coef_\n",
    "\n",
    "# Create data frame out of words and their coefficients\n",
    "coef_df = pd.DataFrame({\n",
    "    'features': words,\n",
    "    'coefs': coefficients[0]\n",
    "})"
   ]
  },
  {
   "cell_type": "code",
   "execution_count": 32,
   "metadata": {},
   "outputs": [
    {
     "data": {
      "text/html": [
       "<div>\n",
       "<style scoped>\n",
       "    .dataframe tbody tr th:only-of-type {\n",
       "        vertical-align: middle;\n",
       "    }\n",
       "\n",
       "    .dataframe tbody tr th {\n",
       "        vertical-align: top;\n",
       "    }\n",
       "\n",
       "    .dataframe thead th {\n",
       "        text-align: right;\n",
       "    }\n",
       "</style>\n",
       "<table border=\"1\" class=\"dataframe\">\n",
       "  <thead>\n",
       "    <tr style=\"text-align: right;\">\n",
       "      <th></th>\n",
       "      <th>features</th>\n",
       "      <th>coefs</th>\n",
       "    </tr>\n",
       "  </thead>\n",
       "  <tbody>\n",
       "    <tr>\n",
       "      <th>23870</th>\n",
       "      <td>coronavirus covid</td>\n",
       "      <td>-2.356449</td>\n",
       "    </tr>\n",
       "    <tr>\n",
       "      <th>23917</th>\n",
       "      <td>coronavirus disease</td>\n",
       "      <td>-1.197954</td>\n",
       "    </tr>\n",
       "    <tr>\n",
       "      <th>93823</th>\n",
       "      <td>the us</td>\n",
       "      <td>-1.120434</td>\n",
       "    </tr>\n",
       "    <tr>\n",
       "      <th>1197</th>\n",
       "      <td>19 coronavirus</td>\n",
       "      <td>-1.098492</td>\n",
       "    </tr>\n",
       "    <tr>\n",
       "      <th>89919</th>\n",
       "      <td>symptoms</td>\n",
       "      <td>-1.054766</td>\n",
       "    </tr>\n",
       "    <tr>\n",
       "      <th>101484</th>\n",
       "      <td>usa</td>\n",
       "      <td>-1.031670</td>\n",
       "    </tr>\n",
       "    <tr>\n",
       "      <th>25389</th>\n",
       "      <td>covid 19</td>\n",
       "      <td>-0.997221</td>\n",
       "    </tr>\n",
       "    <tr>\n",
       "      <th>65779</th>\n",
       "      <td>nurse</td>\n",
       "      <td>-0.955586</td>\n",
       "    </tr>\n",
       "    <tr>\n",
       "      <th>65915</th>\n",
       "      <td>nyc</td>\n",
       "      <td>-0.933601</td>\n",
       "    </tr>\n",
       "    <tr>\n",
       "      <th>59880</th>\n",
       "      <td>medical</td>\n",
       "      <td>-0.926124</td>\n",
       "    </tr>\n",
       "  </tbody>\n",
       "</table>\n",
       "</div>"
      ],
      "text/plain": [
       "                   features     coefs\n",
       "23870     coronavirus covid -2.356449\n",
       "23917   coronavirus disease -1.197954\n",
       "93823                the us -1.120434\n",
       "1197         19 coronavirus -1.098492\n",
       "89919              symptoms -1.054766\n",
       "101484                  usa -1.031670\n",
       "25389              covid 19 -0.997221\n",
       "65779                 nurse -0.955586\n",
       "65915                   nyc -0.933601\n",
       "59880               medical -0.926124"
      ]
     },
     "execution_count": 32,
     "metadata": {},
     "output_type": "execute_result"
    }
   ],
   "source": [
    "# Show words most predictive of Reddit\n",
    "coef_df.sort_values('coefs').head(10)"
   ]
  },
  {
   "cell_type": "code",
   "execution_count": 35,
   "metadata": {},
   "outputs": [
    {
     "data": {
      "text/html": [
       "<div>\n",
       "<style scoped>\n",
       "    .dataframe tbody tr th:only-of-type {\n",
       "        vertical-align: middle;\n",
       "    }\n",
       "\n",
       "    .dataframe tbody tr th {\n",
       "        vertical-align: top;\n",
       "    }\n",
       "\n",
       "    .dataframe thead th {\n",
       "        text-align: right;\n",
       "    }\n",
       "</style>\n",
       "<table border=\"1\" class=\"dataframe\">\n",
       "  <thead>\n",
       "    <tr style=\"text-align: right;\">\n",
       "      <th></th>\n",
       "      <th>features</th>\n",
       "      <th>coefs</th>\n",
       "    </tr>\n",
       "  </thead>\n",
       "  <tbody>\n",
       "    <tr>\n",
       "      <th>25385</th>\n",
       "      <td>covid</td>\n",
       "      <td>5.264099</td>\n",
       "    </tr>\n",
       "    <tr>\n",
       "      <th>26035</th>\n",
       "      <td>covid_19</td>\n",
       "      <td>2.993633</td>\n",
       "    </tr>\n",
       "    <tr>\n",
       "      <th>23706</th>\n",
       "      <td>coronavirus</td>\n",
       "      <td>2.664431</td>\n",
       "    </tr>\n",
       "    <tr>\n",
       "      <th>47035</th>\n",
       "      <td>https</td>\n",
       "      <td>2.548196</td>\n",
       "    </tr>\n",
       "    <tr>\n",
       "      <th>46944</th>\n",
       "      <td>http</td>\n",
       "      <td>2.509174</td>\n",
       "    </tr>\n",
       "    <tr>\n",
       "      <th>26145</th>\n",
       "      <td>covidー19</td>\n",
       "      <td>1.571366</td>\n",
       "    </tr>\n",
       "    <tr>\n",
       "      <th>102465</th>\n",
       "      <td>via</td>\n",
       "      <td>1.473584</td>\n",
       "    </tr>\n",
       "    <tr>\n",
       "      <th>101762</th>\n",
       "      <td>utheni</td>\n",
       "      <td>1.317409</td>\n",
       "    </tr>\n",
       "    <tr>\n",
       "      <th>55774</th>\n",
       "      <td>level3lockdown</td>\n",
       "      <td>1.216644</td>\n",
       "    </tr>\n",
       "    <tr>\n",
       "      <th>100000</th>\n",
       "      <td>uk</td>\n",
       "      <td>1.163025</td>\n",
       "    </tr>\n",
       "  </tbody>\n",
       "</table>\n",
       "</div>"
      ],
      "text/plain": [
       "              features     coefs\n",
       "25385            covid  5.264099\n",
       "26035         covid_19  2.993633\n",
       "23706      coronavirus  2.664431\n",
       "47035            https  2.548196\n",
       "46944             http  2.509174\n",
       "26145         covidー19  1.571366\n",
       "102465             via  1.473584\n",
       "101762          utheni  1.317409\n",
       "55774   level3lockdown  1.216644\n",
       "100000              uk  1.163025"
      ]
     },
     "execution_count": 35,
     "metadata": {},
     "output_type": "execute_result"
    }
   ],
   "source": [
    "# Show words most predictive of Twitter\n",
    "coef_df.sort_values('coefs', ascending=False).head(10)"
   ]
  },
  {
   "cell_type": "code",
   "execution_count": 34,
   "metadata": {},
   "outputs": [
    {
     "data": {
      "image/png": "[encoded data removed]",
      "text/plain": [
       "<Figure size 432x288 with 2 Axes>"
      ]
     },
     "metadata": {
      "needs_background": "light"
     },
     "output_type": "display_data"
    }
   ],
   "source": [
    "# View what our model was most likely to get wrong\n",
    "plot_confusion_matrix(logreg_gs.best_estimator_, X_test, y_test, normalize='all', cmap='Blues');"
   ]
  }
 ],
 "metadata": {
  "kernelspec": {
   "display_name": "Python 3",
   "language": "python",
   "name": "python3"
  },
  "language_info": {
   "codemirror_mode": {
    "name": "ipython",
    "version": 3
   },
   "file_extension": ".py",
   "mimetype": "text/x-python",
   "name": "python",
   "nbconvert_exporter": "python",
   "pygments_lexer": "ipython3",
   "version": "3.7.6"
  }
 },
 "nbformat": 4,
 "nbformat_minor": 4
}
