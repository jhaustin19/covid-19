{
 "cells": [
  {
   "cell_type": "markdown",
   "metadata": {},
   "source": [
    "# Getting data"
   ]
  },
  {
   "cell_type": "markdown",
   "metadata": {},
   "source": [
    "In this notebook, we'll be using the function defined in `pushshift_functions.py` to grab posts from subreddits related to COVID-19."
   ]
  },
  {
   "cell_type": "markdown",
   "metadata": {},
   "source": [
    "## Imports"
   ]
  },
  {
   "cell_type": "code",
   "execution_count": 1,
   "metadata": {},
   "outputs": [],
   "source": [
    "import os\n",
    "\n",
    "from pushshift_functions import create_combined_df"
   ]
  },
  {
   "cell_type": "markdown",
   "metadata": {},
   "source": [
    "## Using the function"
   ]
  },
  {
   "cell_type": "code",
   "execution_count": 2,
   "metadata": {},
   "outputs": [],
   "source": [
    "# Create list of subreddits to pull from.\n",
    "subreddits = [\n",
    "    'CoronaVirusPA',\n",
    "    'coronavirusSC',\n",
    "    'COVID19',\n",
    "    'China_Flu',\n",
    "    'CoronavirusRecession',\n",
    "    'CoronavirusAtlanta',\n",
    "    'nCoV',\n",
    "    'CoronavirusNJ',\n",
    "    'CoronavirusNE',\n",
    "    'CoronavirusAlabama',\n",
    "    'CoronaNC',\n",
    "    'CoronaVirusSouthEast',\n",
    "    'coronavirusflorida',\n",
    "    'coronavirusVA',\n",
    "    'CoronaVirusWV',\n",
    "    'CoronaVirus_2019_nCoV',\n",
    "    'Trumpvirus',\n",
    "    'CoronavirusAustralia',\n",
    "    'CoronavirusFOS',\n",
    "    'CoronavirusUS',\n",
    "    'CoronavirusUK',\n",
    "    'CoronavirusDownunder',\n",
    "    'CanadaCoronavirus',\n",
    "    'CoronavirusCA',\n",
    "    'FloridaCoronavirus',\n",
    "    'CoronavirusNewYork',\n",
    "    'CoronaVirusTX',\n",
    "    'CoronavirusWA',\n",
    "    'CoronavirusMichigan',\n",
    "    'CoronavirusColorado',\n",
    "    'CoronavirusIllinois',\n",
    "    'Coronaviruslouisiana',\n",
    "    'CoronavirusMa',\n",
    "    'CoronavirusGA'\n",
    "]"
   ]
  },
  {
   "cell_type": "code",
   "execution_count": 3,
   "metadata": {},
   "outputs": [
    {
     "name": "stdout",
     "output_type": "stream",
     "text": [
      "Now grabbing posts from /r/CoronaVirusPA\n",
      "Now grabbing posts from /r/coronavirusSC\n",
      "Now grabbing posts from /r/COVID19\n",
      "Now grabbing posts from /r/China_Flu\n",
      "Now grabbing posts from /r/CoronavirusRecession\n",
      "Now grabbing posts from /r/CoronavirusAtlanta\n",
      "Now grabbing posts from /r/nCoV\n",
      "Now grabbing posts from /r/CoronavirusNJ\n",
      "Now grabbing posts from /r/CoronavirusNE\n",
      "Now grabbing posts from /r/CoronavirusAlabama\n",
      "Now grabbing posts from /r/CoronaNC\n",
      "Now grabbing posts from /r/CoronaVirusSouthEast\n",
      "Now grabbing posts from /r/coronavirusflorida\n",
      "Now grabbing posts from /r/coronavirusVA\n",
      "Now grabbing posts from /r/CoronaVirusWV\n",
      "Now grabbing posts from /r/CoronaVirus_2019_nCoV\n",
      "Now grabbing posts from /r/Trumpvirus\n",
      "Now grabbing posts from /r/CoronavirusAustralia\n",
      "Now grabbing posts from /r/CoronavirusFOS\n",
      "Now grabbing posts from /r/CoronavirusUS\n",
      "Now grabbing posts from /r/CoronavirusUK\n",
      "Now grabbing posts from /r/CoronavirusDownunder\n",
      "Now grabbing posts from /r/CanadaCoronavirus\n",
      "Now grabbing posts from /r/CoronavirusCA\n",
      "Now grabbing posts from /r/FloridaCoronavirus\n",
      "Now grabbing posts from /r/CoronavirusNewYork\n",
      "Now grabbing posts from /r/CoronaVirusTX\n",
      "Now grabbing posts from /r/CoronavirusWA\n",
      "Now grabbing posts from /r/CoronavirusMichigan\n",
      "Now grabbing posts from /r/CoronavirusColorado\n",
      "Now grabbing posts from /r/CoronavirusIllinois\n",
      "Now grabbing posts from /r/Coronaviruslouisiana\n",
      "Now grabbing posts from /r/CoronavirusMa\n",
      "Now grabbing posts from /r/CoronavirusGA\n"
     ]
    }
   ],
   "source": [
    "# The following grabs every post ever made from each of the given subreddits.\n",
    "# This will take a LONG time to run.\n",
    "df = create_combined_df(subreddits)"
   ]
  },
  {
   "cell_type": "markdown",
   "metadata": {},
   "source": [
    "## Examining the data"
   ]
  },
  {
   "cell_type": "code",
   "execution_count": 4,
   "metadata": {},
   "outputs": [
    {
     "data": {
      "text/html": [
       "<div>\n",
       "<style scoped>\n",
       "    .dataframe tbody tr th:only-of-type {\n",
       "        vertical-align: middle;\n",
       "    }\n",
       "\n",
       "    .dataframe tbody tr th {\n",
       "        vertical-align: top;\n",
       "    }\n",
       "\n",
       "    .dataframe thead th {\n",
       "        text-align: right;\n",
       "    }\n",
       "</style>\n",
       "<table border=\"1\" class=\"dataframe\">\n",
       "  <thead>\n",
       "    <tr style=\"text-align: right;\">\n",
       "      <th></th>\n",
       "      <th>all_awardings</th>\n",
       "      <th>allow_live_comments</th>\n",
       "      <th>author</th>\n",
       "      <th>author_flair_css_class</th>\n",
       "      <th>author_flair_richtext</th>\n",
       "      <th>author_flair_text</th>\n",
       "      <th>author_flair_type</th>\n",
       "      <th>author_fullname</th>\n",
       "      <th>author_patreon_flair</th>\n",
       "      <th>author_premium</th>\n",
       "      <th>...</th>\n",
       "      <th>upvote_ratio</th>\n",
       "      <th>suggested_sort</th>\n",
       "      <th>link_flair_css_class</th>\n",
       "      <th>banned_by</th>\n",
       "      <th>gilded</th>\n",
       "      <th>steward_reports</th>\n",
       "      <th>event_end</th>\n",
       "      <th>event_is_live</th>\n",
       "      <th>event_start</th>\n",
       "      <th>discussion_type</th>\n",
       "    </tr>\n",
       "  </thead>\n",
       "  <tbody>\n",
       "    <tr>\n",
       "      <th>0</th>\n",
       "      <td>[]</td>\n",
       "      <td>False</td>\n",
       "      <td>rfwaverider</td>\n",
       "      <td>None</td>\n",
       "      <td>[]</td>\n",
       "      <td>None</td>\n",
       "      <td>text</td>\n",
       "      <td>t2_x95jn</td>\n",
       "      <td>False</td>\n",
       "      <td>False</td>\n",
       "      <td>...</td>\n",
       "      <td>NaN</td>\n",
       "      <td>NaN</td>\n",
       "      <td>NaN</td>\n",
       "      <td>NaN</td>\n",
       "      <td>NaN</td>\n",
       "      <td>NaN</td>\n",
       "      <td>NaN</td>\n",
       "      <td>NaN</td>\n",
       "      <td>NaN</td>\n",
       "      <td>NaN</td>\n",
       "    </tr>\n",
       "    <tr>\n",
       "      <th>1</th>\n",
       "      <td>[]</td>\n",
       "      <td>False</td>\n",
       "      <td>rb30zk</td>\n",
       "      <td>None</td>\n",
       "      <td>[]</td>\n",
       "      <td>None</td>\n",
       "      <td>text</td>\n",
       "      <td>t2_55zy27j9</td>\n",
       "      <td>False</td>\n",
       "      <td>False</td>\n",
       "      <td>...</td>\n",
       "      <td>NaN</td>\n",
       "      <td>NaN</td>\n",
       "      <td>NaN</td>\n",
       "      <td>NaN</td>\n",
       "      <td>NaN</td>\n",
       "      <td>NaN</td>\n",
       "      <td>NaN</td>\n",
       "      <td>NaN</td>\n",
       "      <td>NaN</td>\n",
       "      <td>NaN</td>\n",
       "    </tr>\n",
       "    <tr>\n",
       "      <th>2</th>\n",
       "      <td>[]</td>\n",
       "      <td>False</td>\n",
       "      <td>rb30zk</td>\n",
       "      <td>None</td>\n",
       "      <td>[]</td>\n",
       "      <td>None</td>\n",
       "      <td>text</td>\n",
       "      <td>t2_55zy27j9</td>\n",
       "      <td>False</td>\n",
       "      <td>False</td>\n",
       "      <td>...</td>\n",
       "      <td>NaN</td>\n",
       "      <td>NaN</td>\n",
       "      <td>NaN</td>\n",
       "      <td>NaN</td>\n",
       "      <td>NaN</td>\n",
       "      <td>NaN</td>\n",
       "      <td>NaN</td>\n",
       "      <td>NaN</td>\n",
       "      <td>NaN</td>\n",
       "      <td>NaN</td>\n",
       "    </tr>\n",
       "    <tr>\n",
       "      <th>3</th>\n",
       "      <td>[]</td>\n",
       "      <td>False</td>\n",
       "      <td>rb30zk</td>\n",
       "      <td>None</td>\n",
       "      <td>[]</td>\n",
       "      <td>None</td>\n",
       "      <td>text</td>\n",
       "      <td>t2_55zy27j9</td>\n",
       "      <td>False</td>\n",
       "      <td>False</td>\n",
       "      <td>...</td>\n",
       "      <td>NaN</td>\n",
       "      <td>NaN</td>\n",
       "      <td>NaN</td>\n",
       "      <td>NaN</td>\n",
       "      <td>NaN</td>\n",
       "      <td>NaN</td>\n",
       "      <td>NaN</td>\n",
       "      <td>NaN</td>\n",
       "      <td>NaN</td>\n",
       "      <td>NaN</td>\n",
       "    </tr>\n",
       "    <tr>\n",
       "      <th>4</th>\n",
       "      <td>[]</td>\n",
       "      <td>False</td>\n",
       "      <td>rb30zk</td>\n",
       "      <td>None</td>\n",
       "      <td>[]</td>\n",
       "      <td>None</td>\n",
       "      <td>text</td>\n",
       "      <td>t2_55zy27j9</td>\n",
       "      <td>False</td>\n",
       "      <td>False</td>\n",
       "      <td>...</td>\n",
       "      <td>NaN</td>\n",
       "      <td>NaN</td>\n",
       "      <td>NaN</td>\n",
       "      <td>NaN</td>\n",
       "      <td>NaN</td>\n",
       "      <td>NaN</td>\n",
       "      <td>NaN</td>\n",
       "      <td>NaN</td>\n",
       "      <td>NaN</td>\n",
       "      <td>NaN</td>\n",
       "    </tr>\n",
       "  </tbody>\n",
       "</table>\n",
       "<p>5 rows × 87 columns</p>\n",
       "</div>"
      ],
      "text/plain": [
       "  all_awardings  allow_live_comments       author author_flair_css_class  \\\n",
       "0            []                False  rfwaverider                   None   \n",
       "1            []                False       rb30zk                   None   \n",
       "2            []                False       rb30zk                   None   \n",
       "3            []                False       rb30zk                   None   \n",
       "4            []                False       rb30zk                   None   \n",
       "\n",
       "  author_flair_richtext author_flair_text author_flair_type author_fullname  \\\n",
       "0                    []              None              text        t2_x95jn   \n",
       "1                    []              None              text     t2_55zy27j9   \n",
       "2                    []              None              text     t2_55zy27j9   \n",
       "3                    []              None              text     t2_55zy27j9   \n",
       "4                    []              None              text     t2_55zy27j9   \n",
       "\n",
       "  author_patreon_flair author_premium  ... upvote_ratio  suggested_sort  \\\n",
       "0                False          False  ...          NaN             NaN   \n",
       "1                False          False  ...          NaN             NaN   \n",
       "2                False          False  ...          NaN             NaN   \n",
       "3                False          False  ...          NaN             NaN   \n",
       "4                False          False  ...          NaN             NaN   \n",
       "\n",
       "   link_flair_css_class  banned_by gilded steward_reports event_end  \\\n",
       "0                   NaN        NaN    NaN             NaN       NaN   \n",
       "1                   NaN        NaN    NaN             NaN       NaN   \n",
       "2                   NaN        NaN    NaN             NaN       NaN   \n",
       "3                   NaN        NaN    NaN             NaN       NaN   \n",
       "4                   NaN        NaN    NaN             NaN       NaN   \n",
       "\n",
       "  event_is_live  event_start  discussion_type  \n",
       "0           NaN          NaN              NaN  \n",
       "1           NaN          NaN              NaN  \n",
       "2           NaN          NaN              NaN  \n",
       "3           NaN          NaN              NaN  \n",
       "4           NaN          NaN              NaN  \n",
       "\n",
       "[5 rows x 87 columns]"
      ]
     },
     "execution_count": 4,
     "metadata": {},
     "output_type": "execute_result"
    }
   ],
   "source": [
    "df.head()"
   ]
  },
  {
   "cell_type": "code",
   "execution_count": 5,
   "metadata": {},
   "outputs": [
    {
     "data": {
      "text/plain": [
       "(209994, 87)"
      ]
     },
     "execution_count": 5,
     "metadata": {},
     "output_type": "execute_result"
    }
   ],
   "source": [
    "df.shape"
   ]
  },
  {
   "cell_type": "markdown",
   "metadata": {},
   "source": [
    "## Exporting the raw data"
   ]
  },
  {
   "cell_type": "code",
   "execution_count": 6,
   "metadata": {},
   "outputs": [],
   "source": [
    "try:\n",
    "    os.mkdir('../data')\n",
    "except FileExistsError:\n",
    "    pass"
   ]
  },
  {
   "cell_type": "code",
   "execution_count": 7,
   "metadata": {},
   "outputs": [],
   "source": [
    "df.to_csv(f'../data/reddit_raw.csv', index=False)"
   ]
  }
 ],
 "metadata": {
  "kernelspec": {
   "display_name": "Python 3",
   "language": "python",
   "name": "python3"
  },
  "language_info": {
   "codemirror_mode": {
    "name": "ipython",
    "version": 3
   },
   "file_extension": ".py",
   "mimetype": "text/x-python",
   "name": "python",
   "nbconvert_exporter": "python",
   "pygments_lexer": "ipython3",
   "version": "3.7.6"
  }
 },
 "nbformat": 4,
 "nbformat_minor": 4
}
