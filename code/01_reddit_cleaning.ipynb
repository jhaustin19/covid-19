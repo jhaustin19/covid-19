{
 "cells": [
  {
   "cell_type": "markdown",
   "metadata": {},
   "source": [
    "# Cleaning"
   ]
  },
  {
   "cell_type": "markdown",
   "metadata": {},
   "source": [
    "## Imports"
   ]
  },
  {
   "cell_type": "code",
   "execution_count": 1,
   "metadata": {},
   "outputs": [],
   "source": [
    "import os\n",
    "import pandas as pd\n",
    "import time"
   ]
  },
  {
   "cell_type": "markdown",
   "metadata": {},
   "source": [
    "## Loading the data"
   ]
  },
  {
   "cell_type": "code",
   "execution_count": 2,
   "metadata": {},
   "outputs": [],
   "source": [
    "df = pd.read_csv('../data/reddit_raw.csv', low_memory=False)"
   ]
  },
  {
   "cell_type": "code",
   "execution_count": 3,
   "metadata": {},
   "outputs": [
    {
     "data": {
      "text/html": [
       "<div>\n",
       "<style scoped>\n",
       "    .dataframe tbody tr th:only-of-type {\n",
       "        vertical-align: middle;\n",
       "    }\n",
       "\n",
       "    .dataframe tbody tr th {\n",
       "        vertical-align: top;\n",
       "    }\n",
       "\n",
       "    .dataframe thead th {\n",
       "        text-align: right;\n",
       "    }\n",
       "</style>\n",
       "<table border=\"1\" class=\"dataframe\">\n",
       "  <thead>\n",
       "    <tr style=\"text-align: right;\">\n",
       "      <th></th>\n",
       "      <th>all_awardings</th>\n",
       "      <th>allow_live_comments</th>\n",
       "      <th>author</th>\n",
       "      <th>author_flair_css_class</th>\n",
       "      <th>author_flair_richtext</th>\n",
       "      <th>author_flair_text</th>\n",
       "      <th>author_flair_type</th>\n",
       "      <th>author_fullname</th>\n",
       "      <th>author_patreon_flair</th>\n",
       "      <th>author_premium</th>\n",
       "      <th>...</th>\n",
       "      <th>upvote_ratio</th>\n",
       "      <th>suggested_sort</th>\n",
       "      <th>link_flair_css_class</th>\n",
       "      <th>banned_by</th>\n",
       "      <th>gilded</th>\n",
       "      <th>steward_reports</th>\n",
       "      <th>event_end</th>\n",
       "      <th>event_is_live</th>\n",
       "      <th>event_start</th>\n",
       "      <th>discussion_type</th>\n",
       "    </tr>\n",
       "  </thead>\n",
       "  <tbody>\n",
       "    <tr>\n",
       "      <th>0</th>\n",
       "      <td>[]</td>\n",
       "      <td>False</td>\n",
       "      <td>rfwaverider</td>\n",
       "      <td>NaN</td>\n",
       "      <td>[]</td>\n",
       "      <td>NaN</td>\n",
       "      <td>text</td>\n",
       "      <td>t2_x95jn</td>\n",
       "      <td>False</td>\n",
       "      <td>False</td>\n",
       "      <td>...</td>\n",
       "      <td>NaN</td>\n",
       "      <td>NaN</td>\n",
       "      <td>NaN</td>\n",
       "      <td>NaN</td>\n",
       "      <td>NaN</td>\n",
       "      <td>NaN</td>\n",
       "      <td>NaN</td>\n",
       "      <td>NaN</td>\n",
       "      <td>NaN</td>\n",
       "      <td>NaN</td>\n",
       "    </tr>\n",
       "    <tr>\n",
       "      <th>1</th>\n",
       "      <td>[]</td>\n",
       "      <td>False</td>\n",
       "      <td>rb30zk</td>\n",
       "      <td>NaN</td>\n",
       "      <td>[]</td>\n",
       "      <td>NaN</td>\n",
       "      <td>text</td>\n",
       "      <td>t2_55zy27j9</td>\n",
       "      <td>False</td>\n",
       "      <td>False</td>\n",
       "      <td>...</td>\n",
       "      <td>NaN</td>\n",
       "      <td>NaN</td>\n",
       "      <td>NaN</td>\n",
       "      <td>NaN</td>\n",
       "      <td>NaN</td>\n",
       "      <td>NaN</td>\n",
       "      <td>NaN</td>\n",
       "      <td>NaN</td>\n",
       "      <td>NaN</td>\n",
       "      <td>NaN</td>\n",
       "    </tr>\n",
       "    <tr>\n",
       "      <th>2</th>\n",
       "      <td>[]</td>\n",
       "      <td>False</td>\n",
       "      <td>rb30zk</td>\n",
       "      <td>NaN</td>\n",
       "      <td>[]</td>\n",
       "      <td>NaN</td>\n",
       "      <td>text</td>\n",
       "      <td>t2_55zy27j9</td>\n",
       "      <td>False</td>\n",
       "      <td>False</td>\n",
       "      <td>...</td>\n",
       "      <td>NaN</td>\n",
       "      <td>NaN</td>\n",
       "      <td>NaN</td>\n",
       "      <td>NaN</td>\n",
       "      <td>NaN</td>\n",
       "      <td>NaN</td>\n",
       "      <td>NaN</td>\n",
       "      <td>NaN</td>\n",
       "      <td>NaN</td>\n",
       "      <td>NaN</td>\n",
       "    </tr>\n",
       "    <tr>\n",
       "      <th>3</th>\n",
       "      <td>[]</td>\n",
       "      <td>False</td>\n",
       "      <td>rb30zk</td>\n",
       "      <td>NaN</td>\n",
       "      <td>[]</td>\n",
       "      <td>NaN</td>\n",
       "      <td>text</td>\n",
       "      <td>t2_55zy27j9</td>\n",
       "      <td>False</td>\n",
       "      <td>False</td>\n",
       "      <td>...</td>\n",
       "      <td>NaN</td>\n",
       "      <td>NaN</td>\n",
       "      <td>NaN</td>\n",
       "      <td>NaN</td>\n",
       "      <td>NaN</td>\n",
       "      <td>NaN</td>\n",
       "      <td>NaN</td>\n",
       "      <td>NaN</td>\n",
       "      <td>NaN</td>\n",
       "      <td>NaN</td>\n",
       "    </tr>\n",
       "    <tr>\n",
       "      <th>4</th>\n",
       "      <td>[]</td>\n",
       "      <td>False</td>\n",
       "      <td>rb30zk</td>\n",
       "      <td>NaN</td>\n",
       "      <td>[]</td>\n",
       "      <td>NaN</td>\n",
       "      <td>text</td>\n",
       "      <td>t2_55zy27j9</td>\n",
       "      <td>False</td>\n",
       "      <td>False</td>\n",
       "      <td>...</td>\n",
       "      <td>NaN</td>\n",
       "      <td>NaN</td>\n",
       "      <td>NaN</td>\n",
       "      <td>NaN</td>\n",
       "      <td>NaN</td>\n",
       "      <td>NaN</td>\n",
       "      <td>NaN</td>\n",
       "      <td>NaN</td>\n",
       "      <td>NaN</td>\n",
       "      <td>NaN</td>\n",
       "    </tr>\n",
       "  </tbody>\n",
       "</table>\n",
       "<p>5 rows × 87 columns</p>\n",
       "</div>"
      ],
      "text/plain": [
       "  all_awardings  allow_live_comments       author author_flair_css_class  \\\n",
       "0            []                False  rfwaverider                    NaN   \n",
       "1            []                False       rb30zk                    NaN   \n",
       "2            []                False       rb30zk                    NaN   \n",
       "3            []                False       rb30zk                    NaN   \n",
       "4            []                False       rb30zk                    NaN   \n",
       "\n",
       "  author_flair_richtext author_flair_text author_flair_type author_fullname  \\\n",
       "0                    []               NaN              text        t2_x95jn   \n",
       "1                    []               NaN              text     t2_55zy27j9   \n",
       "2                    []               NaN              text     t2_55zy27j9   \n",
       "3                    []               NaN              text     t2_55zy27j9   \n",
       "4                    []               NaN              text     t2_55zy27j9   \n",
       "\n",
       "  author_patreon_flair author_premium  ... upvote_ratio  suggested_sort  \\\n",
       "0                False          False  ...          NaN             NaN   \n",
       "1                False          False  ...          NaN             NaN   \n",
       "2                False          False  ...          NaN             NaN   \n",
       "3                False          False  ...          NaN             NaN   \n",
       "4                False          False  ...          NaN             NaN   \n",
       "\n",
       "   link_flair_css_class  banned_by gilded steward_reports event_end  \\\n",
       "0                   NaN        NaN    NaN             NaN       NaN   \n",
       "1                   NaN        NaN    NaN             NaN       NaN   \n",
       "2                   NaN        NaN    NaN             NaN       NaN   \n",
       "3                   NaN        NaN    NaN             NaN       NaN   \n",
       "4                   NaN        NaN    NaN             NaN       NaN   \n",
       "\n",
       "  event_is_live  event_start  discussion_type  \n",
       "0           NaN          NaN              NaN  \n",
       "1           NaN          NaN              NaN  \n",
       "2           NaN          NaN              NaN  \n",
       "3           NaN          NaN              NaN  \n",
       "4           NaN          NaN              NaN  \n",
       "\n",
       "[5 rows x 87 columns]"
      ]
     },
     "execution_count": 3,
     "metadata": {},
     "output_type": "execute_result"
    }
   ],
   "source": [
    "df.head()"
   ]
  },
  {
   "cell_type": "code",
   "execution_count": 4,
   "metadata": {},
   "outputs": [
    {
     "data": {
      "text/plain": [
       "(209994, 87)"
      ]
     },
     "execution_count": 4,
     "metadata": {},
     "output_type": "execute_result"
    }
   ],
   "source": [
    "df.shape"
   ]
  },
  {
   "cell_type": "markdown",
   "metadata": {},
   "source": [
    "## Clean the raw dataframe"
   ]
  },
  {
   "cell_type": "code",
   "execution_count": 5,
   "metadata": {},
   "outputs": [],
   "source": [
    "# Overwrite dataframe to be only the columns of potential interest\n",
    "features = ['subreddit', \n",
    "            'subreddit_subscribers', \n",
    "            'title', \n",
    "            'selftext', \n",
    "            'score', \n",
    "            'num_comments', \n",
    "            'author', \n",
    "            'created_utc']\n",
    "df = df[features]"
   ]
  },
  {
   "cell_type": "code",
   "execution_count": 6,
   "metadata": {},
   "outputs": [],
   "source": [
    "# Select only the subreddits related to geographic regions\n",
    "subreddits = [\n",
    "    'CoronavirusUS',\n",
    "    'CoronavirusCA',\n",
    "    'CoronavirusWA',\n",
    "    'CoronaVirusTX',\n",
    "    'CoronavirusNewYork',\n",
    "    'CoronavirusGA',\n",
    "    'FloridaCoronavirus',\n",
    "    'CoronavirusMichigan',\n",
    "    'CoronavirusColorado',\n",
    "    'CoronavirusMa',\n",
    "    'CoronavirusAlabama',\n",
    "    'CoronavirusIllinois',\n",
    "    'Coronaviruslouisiana',\n",
    "    'CoronaVirusPA',\n",
    "    'coronavirusSC',\n",
    "    'coronavirusVA',\n",
    "    'CoronaVirusWV',\n",
    "    'CoronavirusNJ'\n",
    "]\n",
    "df = df.loc[df['subreddit'].isin(subreddits), :]"
   ]
  },
  {
   "cell_type": "code",
   "execution_count": 7,
   "metadata": {},
   "outputs": [],
   "source": [
    "# Convert utc column to regular date format\n",
    "def get_date_from_utc(utc_time):\n",
    "    local_time = time.localtime(utc_time)\n",
    "    return str(local_time.tm_year) + '-' + str(local_time.tm_mon) + '-' + str(local_time.tm_mday)\n",
    "\n",
    "df['date'] = pd.to_datetime(df['created_utc'].map(get_date_from_utc))"
   ]
  },
  {
   "cell_type": "code",
   "execution_count": 10,
   "metadata": {},
   "outputs": [
    {
     "data": {
      "text/plain": [
       "subreddit                        object\n",
       "subreddit_subscribers             int64\n",
       "title                            object\n",
       "selftext                         object\n",
       "score                             int64\n",
       "num_comments                      int64\n",
       "author                           object\n",
       "created_utc                       int64\n",
       "date                     datetime64[ns]\n",
       "dtype: object"
      ]
     },
     "execution_count": 10,
     "metadata": {},
     "output_type": "execute_result"
    }
   ],
   "source": [
    "df.dtypes"
   ]
  },
  {
   "cell_type": "markdown",
   "metadata": {},
   "source": [
    "## Exporting the clean data"
   ]
  },
  {
   "cell_type": "code",
   "execution_count": 8,
   "metadata": {},
   "outputs": [],
   "source": [
    "try:\n",
    "    os.mkdir('../data')\n",
    "except FileExistsError:\n",
    "    pass"
   ]
  },
  {
   "cell_type": "code",
   "execution_count": 9,
   "metadata": {},
   "outputs": [],
   "source": [
    "df.to_csv(f'../data/reddit_clean.csv', index=False)"
   ]
  }
 ],
 "metadata": {
  "kernelspec": {
   "display_name": "Python 3",
   "language": "python",
   "name": "python3"
  },
  "language_info": {
   "codemirror_mode": {
    "name": "ipython",
    "version": 3
   },
   "file_extension": ".py",
   "mimetype": "text/x-python",
   "name": "python",
   "nbconvert_exporter": "python",
   "pygments_lexer": "ipython3",
   "version": "3.7.6"
  }
 },
 "nbformat": 4,
 "nbformat_minor": 4
}
